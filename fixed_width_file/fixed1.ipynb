{
 "cells": [
  {
   "cell_type": "code",
   "execution_count": 76,
   "metadata": {},
   "outputs": [],
   "source": [
    "import pandas as pd\n",
    "import json"
   ]
  },
  {
   "cell_type": "code",
   "execution_count": 77,
   "metadata": {},
   "outputs": [],
   "source": [
    "data = pd.read_json('com.json')"
   ]
  },
  {
   "cell_type": "code",
   "execution_count": 78,
   "metadata": {},
   "outputs": [
    {
     "data": {
      "text/html": [
       "<div>\n",
       "<style scoped>\n",
       "    .dataframe tbody tr th:only-of-type {\n",
       "        vertical-align: middle;\n",
       "    }\n",
       "\n",
       "    .dataframe tbody tr th {\n",
       "        vertical-align: top;\n",
       "    }\n",
       "\n",
       "    .dataframe thead th {\n",
       "        text-align: right;\n",
       "    }\n",
       "</style>\n",
       "<table border=\"1\" class=\"dataframe\">\n",
       "  <thead>\n",
       "    <tr style=\"text-align: right;\">\n",
       "      <th></th>\n",
       "      <th>Categories</th>\n",
       "      <th>Profit</th>\n",
       "      <th>Sales</th>\n",
       "      <th>percet</th>\n",
       "    </tr>\n",
       "  </thead>\n",
       "  <tbody>\n",
       "    <tr>\n",
       "      <th>0</th>\n",
       "      <td>A</td>\n",
       "      <td>463050.66</td>\n",
       "      <td>2429573.58</td>\n",
       "      <td>0.71</td>\n",
       "    </tr>\n",
       "    <tr>\n",
       "      <th>1</th>\n",
       "      <td>B</td>\n",
       "      <td>130518.33</td>\n",
       "      <td>685381.15</td>\n",
       "      <td>0.20</td>\n",
       "    </tr>\n",
       "    <tr>\n",
       "      <th>2</th>\n",
       "      <td>C</td>\n",
       "      <td>58721.69</td>\n",
       "      <td>308109.84</td>\n",
       "      <td>0.09</td>\n",
       "    </tr>\n",
       "  </tbody>\n",
       "</table>\n",
       "</div>"
      ],
      "text/plain": [
       "  Categories     Profit       Sales  percet\n",
       "0          A  463050.66  2429573.58    0.71\n",
       "1          B  130518.33   685381.15    0.20\n",
       "2          C   58721.69   308109.84    0.09"
      ]
     },
     "execution_count": 78,
     "metadata": {},
     "output_type": "execute_result"
    }
   ],
   "source": [
    "data"
   ]
  },
  {
   "cell_type": "code",
   "execution_count": 79,
   "metadata": {},
   "outputs": [
    {
     "name": "stdout",
     "output_type": "stream",
     "text": [
      "[{'Categories': 'A', 'Sales': 2429573.58, 'Profit': 463050.66, 'percet': 0.71}, {'Categories': 'B', 'Sales': 685381.15, 'Profit': 130518.33, 'percet': 0.2}, {'Categories': 'C', 'Sales': 308109.84, 'Profit': 58721.69, 'percet': 0.09}]\n",
      "dict_keys(['Categories', 'Sales', 'Profit', 'percet'])\n",
      "10\n",
      "5\n",
      "6\n",
      "6\n"
     ]
    }
   ],
   "source": [
    "with open(\"com.json\", \"r\") as first:\n",
    "    x = json.load(first)\n",
    "\n",
    "print(x)\n",
    "print(x[0].keys())\n",
    "key = x[0].keys()\n",
    "for i in key:\n",
    "    print(len(i))"
   ]
  },
  {
   "cell_type": "code",
   "execution_count": 97,
   "metadata": {},
   "outputs": [
    {
     "name": "stdout",
     "output_type": "stream",
     "text": [
      "\n",
      "yes\n",
      "A                   2429573.58  463050.66 0.71 \n",
      "B                   685381.15   130518.33 0.2  \n",
      "C                   308109.84   58721.69  0.09 \n",
      "Categories          Sales       Profit    Profit    \n"
     ]
    }
   ],
   "source": [
    "Categories = 20\n",
    "Sales = 12\n",
    "Profit= 10\n",
    "percet= 5\n",
    "\n",
    "with open(\"width.txt\", \"w+\") as f:\n",
    "\n",
    "    cl=\"\"\n",
    "#     for k in key:\n",
    "#         if(k==\"Categories\"):\n",
    "#                 cat = k+\" \"*(Categories-len(k))\n",
    "#                 cl = cl+cat\n",
    "#         elif(k==\"Sales\"):\n",
    "#             sa = k+\" \"*(Sales-len(k))\n",
    "#             cl = cl+sa\n",
    "#         elif(k==\"Profit\"):\n",
    "#             p = k+\" \"*(Profit-len(k))\n",
    "#             cl = cl+p\n",
    "#         else:\n",
    "#             pe = k+\" \"*(percet-len(k))\n",
    "#             cl = cl+p\n",
    "\n",
    "    print(cl)\n",
    "    \n",
    "    flag=True\n",
    "\n",
    "#     f.write(cl)\n",
    "#     f.write(\"\\n\")\n",
    "    for j in x:\n",
    "        st=\"\"\n",
    "        for k in key:\n",
    "            if(k==\"Categories\"):\n",
    "                cat = j[k]+\" \"*(Categories-len(j[k]))\n",
    "                st = st+cat\n",
    "                if(flag==True):\n",
    "                    cat = k+\" \"*(Categories-len(k))\n",
    "                    cl = cl+cat\n",
    "            elif(k==\"Sales\"):\n",
    "                sa = str(j[k])+\" \"*(Sales-len(str(j[k])))\n",
    "                st = st+str(sa)\n",
    "                if(flag==True):\n",
    "                    sa = k+\" \"*(Sales-len(k))\n",
    "                    cl = cl+sa\n",
    "            elif(k==\"Profit\"):\n",
    "                p = str(j[k])+\" \"*(Profit-len(str(j[k])))\n",
    "                st = st+p\n",
    "                if(flag==True):\n",
    "                    p = k+\" \"*(Profit-len(k))\n",
    "                    cl = cl+p\n",
    "            else:\n",
    "                pe = str(j[k])+\" \"*(percet-len(str(j[k])))\n",
    "                st = st+pe\n",
    "                if(flag==True):\n",
    "                    pe = k+\" \"*(percet-len(k))\n",
    "                    cl = cl+p\n",
    "                    \n",
    "        print(st)\n",
    "        if(flag==True):\n",
    "            f.write(cl)\n",
    "            f.write(\"\\n\")\n",
    "        f.write(st)\n",
    "        f.write(\"\\n\")\n",
    "        flag=False\n",
    "    print(cl)\n",
    "    "
   ]
  },
  {
   "cell_type": "markdown",
   "metadata": {},
   "source": []
  },
  {
   "cell_type": "code",
   "execution_count": null,
   "metadata": {},
   "outputs": [],
   "source": []
  },
  {
   "cell_type": "code",
   "execution_count": null,
   "metadata": {},
   "outputs": [],
   "source": [
    "    \n",
    "\n",
    "\n",
    "        "
   ]
  },
  {
   "cell_type": "code",
   "execution_count": null,
   "metadata": {},
   "outputs": [],
   "source": [
    "\n"
   ]
  },
  {
   "cell_type": "code",
   "execution_count": null,
   "metadata": {},
   "outputs": [],
   "source": []
  }
 ],
 "metadata": {
  "kernelspec": {
   "display_name": "Python 3",
   "language": "python",
   "name": "python3"
  },
  "language_info": {
   "codemirror_mode": {
    "name": "ipython",
    "version": 3
   },
   "file_extension": ".py",
   "mimetype": "text/x-python",
   "name": "python",
   "nbconvert_exporter": "python",
   "pygments_lexer": "ipython3",
   "version": "3.6.5"
  }
 },
 "nbformat": 4,
 "nbformat_minor": 2
}
