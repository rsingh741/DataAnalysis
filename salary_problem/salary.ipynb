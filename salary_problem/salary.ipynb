{
 "cells": [
  {
   "cell_type": "code",
   "execution_count": 21,
   "metadata": {},
   "outputs": [
    {
     "name": "stdout",
     "output_type": "stream",
     "text": [
      "2\n",
      "4\n",
      "8\n",
      "16\n",
      "32\n",
      "64\n",
      "128\n",
      "256\n",
      "512\n",
      "1024\n",
      "2048\n",
      "4096\n",
      "8192\n",
      "16384\n",
      "32768\n",
      "65536\n",
      "131072\n",
      "262144\n",
      "524288\n",
      "1048576\n",
      "2097152\n",
      "4194304\n",
      "8388608\n",
      "16777216\n",
      "33554432\n",
      "67108864\n",
      "134217728\n",
      "268435456\n",
      "536870912\n",
      "1073741824\n",
      "Employee who is getting salary 1 rupeee for first day double each is gettig more.\n",
      "emp1 31000\n",
      "emp2 1073741824\n"
     ]
    }
   ],
   "source": [
    "salary_emp2 = 1\n",
    "\n",
    "salary_emp1 = 31*1000\n",
    "\n",
    "for i in range(1,31):\n",
    "    salary_emp2 = salary_emp2*2\n",
    "    print(salary_emp2)\n",
    "\n",
    "if salary_emp2 > salary_emp1:\n",
    "    print(\"Employee who is getting salary 1 rupeee for first day double each is gettig more.\")\n",
    "else:\n",
    "    print(\"employee who is getting paid Rs.1000 per day getting more\")\n",
    "    \n",
    "print(\"emp1\",salary_emp1)\n",
    "print(\"emp2\", salary_emp2)"
   ]
  },
  {
   "cell_type": "code",
   "execution_count": null,
   "metadata": {},
   "outputs": [],
   "source": []
  },
  {
   "cell_type": "code",
   "execution_count": null,
   "metadata": {},
   "outputs": [],
   "source": []
  }
 ],
 "metadata": {
  "kernelspec": {
   "display_name": "Python 3",
   "language": "python",
   "name": "python3"
  },
  "language_info": {
   "codemirror_mode": {
    "name": "ipython",
    "version": 3
   },
   "file_extension": ".py",
   "mimetype": "text/x-python",
   "name": "python",
   "nbconvert_exporter": "python",
   "pygments_lexer": "ipython3",
   "version": "3.6.5"
  }
 },
 "nbformat": 4,
 "nbformat_minor": 2
}
