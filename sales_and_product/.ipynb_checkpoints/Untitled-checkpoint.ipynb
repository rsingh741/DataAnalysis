{
 "cells": [
  {
   "cell_type": "code",
   "execution_count": 2,
   "metadata": {
    "scrolled": true
   },
   "outputs": [
    {
     "name": "stdout",
     "output_type": "stream",
     "text": [
      "<class 'pandas.core.frame.DataFrame'>\n",
      "Int64Index: 172198 entries, 0 to 172197\n",
      "Data columns (total 11 columns):\n",
      "sales_id                               172198 non-null int64\n",
      "sale_date                              172198 non-null object\n",
      "product_id                             172198 non-null int64\n",
      "product_name_x                         172198 non-null object\n",
      "unit_selling_price (after_discount)    172198 non-null float64\n",
      "qty                                    172198 non-null int64\n",
      "sub_total                              172198 non-null float64\n",
      "discounted_amount                      172198 non-null float64\n",
      "product_name_y                         172198 non-null object\n",
      "product_selling_price                  172198 non-null float64\n",
      "allowed_discounted_price               172198 non-null float64\n",
      "dtypes: float64(5), int64(3), object(3)\n",
      "memory usage: 15.8+ MB\n"
     ]
    }
   ],
   "source": [
    "import pandas as pd\n",
    "df=pd.read_csv('product.csv')\n",
    "df1=pd.read_csv('sales.csv')\n",
    "df3=pd.DataFrame(['sales_id','sale_date','product_id','product_name','unit_selling_price (after_discount)','qty','sub_total','discounted_amount','allowed_discounted_price'])\n",
    "# print(df1)\n",
    "df\n",
    "df=df.drop(['product_category_id','product_category_name','product_cost_price','product_max_discount'], axis=1)\n",
    "req=pd.merge(df1, df, how='left', on=['product_id'])\n",
    "\n",
    "for index, row in req.iterrows():\n",
    "    if row['unit_selling_price (after_discount)'] < row['allowed_discounted_price']:\n",
    "        df3=df3.append(req[['sales_id','sale_date','product_id','product_name_x','unit_selling_price (after_discount)','qty','sub_total','discounted_amount','allowed_discounted_price']].iloc[index])"
   ]
  },
  {
   "cell_type": "code",
   "execution_count": 3,
   "metadata": {},
   "outputs": [],
   "source": [
    "df3.to_csv('exceptions.csv', index=False)"
   ]
  },
  {
   "cell_type": "code",
   "execution_count": null,
   "metadata": {},
   "outputs": [],
   "source": []
  }
 ],
 "metadata": {
  "kernelspec": {
   "display_name": "Python 3",
   "language": "python",
   "name": "python3"
  },
  "language_info": {
   "codemirror_mode": {
    "name": "ipython",
    "version": 3
   },
   "file_extension": ".py",
   "mimetype": "text/x-python",
   "name": "python",
   "nbconvert_exporter": "python",
   "pygments_lexer": "ipython3",
   "version": "3.6.5"
  }
 },
 "nbformat": 4,
 "nbformat_minor": 2
}
